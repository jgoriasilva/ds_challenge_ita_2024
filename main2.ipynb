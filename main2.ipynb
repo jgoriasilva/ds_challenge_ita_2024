{
 "cells": [
  {
   "cell_type": "markdown",
   "id": "f80dc5b6-3a2a-40e9-ac9f-3ef48a143399",
   "metadata": {},
   "source": [
    "# Predicting delays in commercial flights - DS Challenge ITA 2024 - 2"
   ]
  },
  {
   "cell_type": "markdown",
   "id": "4693f2cb-bcfd-4695-868f-7bcc041e3241",
   "metadata": {},
   "source": [
    "## Data"
   ]
  },
  {
   "cell_type": "code",
   "execution_count": 1,
   "id": "7444fb5e-aa23-4281-a44a-5c668f7827fe",
   "metadata": {},
   "outputs": [
    {
     "name": "stdout",
     "output_type": "stream",
     "text": [
      "<class 'pandas.core.frame.DataFrame'>\n",
      "RangeIndex: 302399 entries, 0 to 302398\n",
      "Data columns (total 12 columns):\n",
      " #   Column                         Non-Null Count   Dtype              \n",
      "---  ------                         --------------   -----              \n",
      " 0   flightid                       302399 non-null  object             \n",
      " 1   dt_dep                         302399 non-null  object             \n",
      " 2   dt_arr                         302399 non-null  object             \n",
      " 3   hora_ref                       302399 non-null  datetime64[ns, UTC]\n",
      " 4   origem                         302399 non-null  object             \n",
      " 5   destino                        302399 non-null  object             \n",
      " 6   url_img_satelite               298666 non-null  object             \n",
      " 7   metaf                          155737 non-null  object             \n",
      " 8   metar                          300770 non-null  object             \n",
      " 9   prev_troca_cabeceira           302399 non-null  int64              \n",
      " 10  troca_cabeceira_hora_anterior  302399 non-null  int64              \n",
      " 11  espera                         211679 non-null  float64            \n",
      "dtypes: datetime64[ns, UTC](1), float64(1), int64(2), object(8)\n",
      "memory usage: 27.7+ MB\n"
     ]
    }
   ],
   "source": [
    "import pandas as pd\n",
    "\n",
    "public = pd.read_csv('public_f2.csv')\n",
    "public['hora_ref'] = pd.to_datetime(public['hora_ref'], utc=True)\n",
    "public.info()"
   ]
  },
  {
   "cell_type": "markdown",
   "id": "71346bc3-7569-4464-aa5d-6aad5cd20276",
   "metadata": {},
   "source": [
    "### METAR & METAF info"
   ]
  },
  {
   "cell_type": "code",
   "execution_count": 2,
   "id": "289a7bd2-c944-40d7-a3de-b36aa5cf61b8",
   "metadata": {},
   "outputs": [
    {
     "name": "stdout",
     "output_type": "stream",
     "text": [
      "<class 'pandas.core.frame.DataFrame'>\n",
      "Index: 75024 entries, 0 to 75334\n",
      "Data columns (total 28 columns):\n",
      " #   Column                 Non-Null Count  Dtype              \n",
      "---  ------                 --------------  -----              \n",
      " 0   station_id             75024 non-null  object             \n",
      " 1   latitude               75024 non-null  float64            \n",
      " 2   longitude              75024 non-null  float64            \n",
      " 3   elevation              75024 non-null  int64              \n",
      " 4   date_time              75024 non-null  datetime64[ns, UTC]\n",
      " 5   wind_direction         71156 non-null  float64            \n",
      " 6   wind_speed             75023 non-null  float64            \n",
      " 7   wind_gust              580 non-null    float64            \n",
      " 8   visibility             75020 non-null  float64            \n",
      " 9   current_wx1            10349 non-null  object             \n",
      " 10  current_wx2            2020 non-null   object             \n",
      " 11  current_wx3            10 non-null     object             \n",
      " 12  low_cloud_type         55066 non-null  object             \n",
      " 13  low_cloud_level        53539 non-null  float64            \n",
      " 14  medium_cloud_type      29003 non-null  object             \n",
      " 15  medium_cloud_level     29003 non-null  float64            \n",
      " 16  high_cloud_type        8734 non-null   object             \n",
      " 17  high_cloud_level       8734 non-null   float64            \n",
      " 18  highest_cloud_type     660 non-null    object             \n",
      " 19  highest_cloud_level    660 non-null    float64            \n",
      " 20  cloud_coverage         75024 non-null  int64              \n",
      " 21  air_temperature        74945 non-null  float64            \n",
      " 22  dew_point_temperature  74855 non-null  float64            \n",
      " 23  altimeter              74948 non-null  float64            \n",
      " 24  current_wx1_symbol     75024 non-null  int64              \n",
      " 25  current_wx2_symbol     75024 non-null  int64              \n",
      " 26  current_wx3_symbol     75024 non-null  int64              \n",
      " 27  remarks                75024 non-null  object             \n",
      "dtypes: datetime64[ns, UTC](1), float64(13), int64(5), object(9)\n",
      "memory usage: 16.6+ MB\n"
     ]
    }
   ],
   "source": [
    "from metpy.io import parse_metar\n",
    "\n",
    "process_metar = True\n",
    "\n",
    "if process_metar:\n",
    "    metar = public.loc[:, ['hora_ref', 'metar']].drop_duplicates()\n",
    "    \n",
    "    parsed_metars = []\n",
    "    for sample in metar.index:\n",
    "        try:\n",
    "            res = parse_metar(metar.loc[sample, 'metar'], month=metar.loc[sample, 'hora_ref'].month, year=metar.loc[sample, 'hora_ref'].year)\n",
    "        except:\n",
    "            pass\n",
    "        parsed_metars.append(res)\n",
    "    \n",
    "    metar = pd.DataFrame(parsed_metars)\n",
    "    metar.rename(columns={'skyc1': 'low_cloud_type', 'skylev1': 'low_cloud_level',\n",
    "                       'skyc2': 'medium_cloud_type', 'skylev2': 'medium_cloud_level',\n",
    "                       'skyc3': 'high_cloud_type', 'skylev3': 'high_cloud_level',\n",
    "                       'skyc4': 'highest_cloud_type', 'skylev4': 'highest_cloud_level',\n",
    "                       'cloudcover': 'cloud_coverage', 'temperature': 'air_temperature',\n",
    "                       'dewpoint': 'dew_point_temperature'}, inplace=True)\n",
    "    metar = metar.dropna(subset=['station_id', 'date_time'])\n",
    "    metar = metar.drop_duplicates(subset=['station_id', 'date_time'])\n",
    "    metar.to_csv('metar.csv', index=False)\n",
    "\n",
    "else:\n",
    "    metar = pd.read_csv('metar.csv', low_memory=False)\n",
    "\n",
    "metar['date_time'] = pd.to_datetime(metar['date_time'], utc=True)\n",
    "metar.info()"
   ]
  },
  {
   "cell_type": "code",
   "execution_count": 3,
   "id": "a554ec1a-c00a-4fc2-a513-df7df87a6b0d",
   "metadata": {},
   "outputs": [
    {
     "name": "stdout",
     "output_type": "stream",
     "text": [
      "<class 'pandas.core.frame.DataFrame'>\n",
      "RangeIndex: 35170 entries, 0 to 35169\n",
      "Data columns (total 28 columns):\n",
      " #   Column                 Non-Null Count  Dtype              \n",
      "---  ------                 --------------  -----              \n",
      " 0   station_id             35170 non-null  object             \n",
      " 1   latitude               35170 non-null  float64            \n",
      " 2   longitude              35170 non-null  float64            \n",
      " 3   elevation              35170 non-null  int64              \n",
      " 4   date_time              35170 non-null  datetime64[ns, UTC]\n",
      " 5   wind_direction         35170 non-null  int64              \n",
      " 6   wind_speed             35170 non-null  float64            \n",
      " 7   wind_gust              0 non-null      float64            \n",
      " 8   visibility             35170 non-null  int64              \n",
      " 9   current_wx1            10106 non-null  object             \n",
      " 10  current_wx2            25 non-null     object             \n",
      " 11  current_wx3            0 non-null      float64            \n",
      " 12  low_cloud_type         21276 non-null  object             \n",
      " 13  low_cloud_level        21276 non-null  float64            \n",
      " 14  medium_cloud_type      608 non-null    object             \n",
      " 15  medium_cloud_level     608 non-null    float64            \n",
      " 16  high_cloud_type        0 non-null      float64            \n",
      " 17  high_cloud_level       0 non-null      float64            \n",
      " 18  highest_cloud_type     0 non-null      float64            \n",
      " 19  highest_cloud_level    0 non-null      float64            \n",
      " 20  cloud_coverage         35170 non-null  int64              \n",
      " 21  air_temperature        34906 non-null  float64            \n",
      " 22  dew_point_temperature  34906 non-null  float64            \n",
      " 23  altimeter              34905 non-null  float64            \n",
      " 24  current_wx1_symbol     35170 non-null  int64              \n",
      " 25  current_wx2_symbol     35170 non-null  int64              \n",
      " 26  current_wx3_symbol     35170 non-null  int64              \n",
      " 27  remarks                35170 non-null  object             \n",
      "dtypes: datetime64[ns, UTC](1), float64(14), int64(7), object(6)\n",
      "memory usage: 7.5+ MB\n"
     ]
    }
   ],
   "source": [
    "from metpy.io import parse_metar\n",
    "\n",
    "process_metaf = True\n",
    "\n",
    "if process_metaf:\n",
    "    # metaf = public.loc[:, ['hora_ref', 'metaf']].drop_duplicates(subset='metaf')\n",
    "    metaf = public.loc[:, ['hora_ref', 'metaf']].drop_duplicates()\n",
    "    \n",
    "    parsed_metafs = []\n",
    "    for sample in metaf.index:\n",
    "        data = metaf.loc[sample, 'metaf']\n",
    "        if isinstance(data, float):\n",
    "            continue\n",
    "        data= data.replace('METAF', 'METAR')\n",
    "        try:\n",
    "            res = parse_metar(data, month=metaf.loc[sample, 'hora_ref'].month, year=metaf.loc[sample, 'hora_ref'].year)\n",
    "        except:\n",
    "            pass\n",
    "        parsed_metafs.append(res)\n",
    "    \n",
    "    metaf = pd.DataFrame(parsed_metafs)\n",
    "    metaf= metaf.rename(columns={'skyc1': 'low_cloud_type', 'skylev1': 'low_cloud_level',\n",
    "                       'skyc2': 'medium_cloud_type', 'skylev2': 'medium_cloud_level',\n",
    "                       'skyc3': 'high_cloud_type', 'skylev3': 'high_cloud_level',\n",
    "                       'skyc4': 'highest_cloud_type', 'skylev4': 'highest_cloud_level',\n",
    "                       'cloudcover': 'cloud_coverage', 'temperature': 'air_temperature',\n",
    "                       'dewpoint': 'dew_point_temperature'})\n",
    "    metaf = metaf.dropna(subset=['station_id', 'date_time'])\n",
    "    metaf = metaf.drop_duplicates(subset=['station_id', 'date_time'])\n",
    "    metaf.to_csv('metaf.csv', index=False)\n",
    "\n",
    "else:\n",
    "    metaf = pd.read_csv('metaf.csv', low_memory=False)\n",
    "\n",
    "metaf['date_time'] = pd.to_datetime(metaf['date_time'], utc=True)\n",
    "metaf.info()"
   ]
  },
  {
   "cell_type": "code",
   "execution_count": 4,
   "id": "3657521a-d1b4-43c2-a8ff-a98ca1145efb",
   "metadata": {},
   "outputs": [
    {
     "name": "stdout",
     "output_type": "stream",
     "text": [
      "<class 'pandas.core.frame.DataFrame'>\n",
      "RangeIndex: 302399 entries, 0 to 302398\n",
      "Columns: 124 entries, flightid to remarks_destino_metaf\n",
      "dtypes: datetime64[ns, UTC](5), float64(79), int64(2), object(38)\n",
      "memory usage: 286.1+ MB\n"
     ]
    }
   ],
   "source": [
    "# TODO: try with merge_asof\n",
    "import pandas as pd\n",
    "\n",
    "process = True\n",
    "\n",
    "def merge_df_metarf(df1, df2, origem_destino, metar_metaf):\n",
    "    return pd.merge(left=df1, right=df2.add_suffix(f'_{origem_destino}_{metar_metaf}'), left_on=['hora_ref', origem_destino], right_on=[f'date_time_{origem_destino}_{metar_metaf}',f'station_id_{origem_destino}_{metar_metaf}'], how='left')\n",
    "\n",
    "if process:\n",
    "    try:\n",
    "        df = public.copy()\n",
    "        df = merge_df_metarf(df, metar, 'origem', 'metar')\n",
    "        df = merge_df_metarf(df, metar, 'destino', 'metar')\n",
    "        df = merge_df_metarf(df, metaf, 'origem', 'metaf')\n",
    "        df = merge_df_metarf(df, metaf, 'destino', 'metaf')\n",
    "        df.to_csv('processed_public.csv', index=False)\n",
    "        del public, metar, metaf\n",
    "    except NameError:\n",
    "        pass\n",
    "else:\n",
    "    df = pd.read_csv('processed_public.csv', low_memory=False)\n",
    "\n",
    "df.info()"
   ]
  },
  {
   "cell_type": "code",
   "execution_count": 36,
   "id": "8156a08c-7a74-4e67-856e-16730e20819c",
   "metadata": {},
   "outputs": [
    {
     "data": {
      "text/plain": [
       "<Axes: >"
      ]
     },
     "execution_count": 36,
     "metadata": {},
     "output_type": "execute_result"
    },
    {
     "data": {
      "image/png": "[encoded data removed]",
      "text/plain": [
       "<Figure size 640x480 with 1 Axes>"
      ]
     },
     "metadata": {},
     "output_type": "display_data"
    }
   ],
   "source": [
    "(pd.to_datetime(df['dt_dep']) - df['hora_ref']).dt.seconds.hist(bins=20)"
   ]
  },
  {
   "cell_type": "code",
   "execution_count": null,
   "id": "cfea2640-2d3b-4a9d-9417-58e3bbc0d2b3",
   "metadata": {},
   "outputs": [],
   "source": []
  }
 ],
 "metadata": {
  "kernelspec": {
   "display_name": "Python 3",
   "language": "python",
   "name": "python3"
  },
  "language_info": {
   "codemirror_mode": {
    "name": "ipython",
    "version": 3
   },
   "file_extension": ".py",
   "mimetype": "text/x-python",
   "name": "python",
   "nbconvert_exporter": "python",
   "pygments_lexer": "ipython3",
   "version": "3.11.8"
  }
 },
 "nbformat": 4,
 "nbformat_minor": 5
}
